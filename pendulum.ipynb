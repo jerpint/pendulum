{
 "cells": [
  {
   "cell_type": "code",
   "execution_count": null,
   "metadata": {
    "scrolled": true
   },
   "outputs": [],
   "source": [
    "import numpy as np\n",
    "from scipy.integrate import odeint\n",
    "import matplotlib.pyplot as plt\n",
    "from math import sin, cos, pi\n",
    "%matplotlib inline\n",
    "\n",
    "def pend(y, t, b, c):\n",
    "    theta, omega = y\n",
    "    dydt = [omega, -b*omega - c*np.sin(theta)]\n",
    "    return dydt\n",
    "\n",
    "x = []\n",
    "y = []\n",
    "rot0 = 0\n",
    "\n",
    "b = 0#0.0025\n",
    "g = 9.8\n",
    "L = 10\n",
    "c = 2#np.sqrt(g/L)\n",
    "\n",
    "theta0 = [np.pi/64, 0.0]\n",
    "t = np.linspace(0, 100, 5001)\n",
    "sol = odeint(pend, theta0, t, args=(b, c))\n",
    "\n",
    "sin_L = np.asarray([sin(theta) for theta in (sol[:,0])])\n",
    "\n",
    "for count, sinL in enumerate(sin_L):\n",
    "    rot = np.radians(rot0+count*2)\n",
    "    c, s = np.cos(rot), np.sin(rot)\n",
    "    R = np.array(((c,-s), (s, c)))\n",
    "\n",
    "    \n",
    "    xy = np.zeros(2)\n",
    "    xy[0] = L*sinL\n",
    "    xy[1] = 0\n",
    "    \n",
    "    xy_prime = np.matmul(R,xy)\n",
    "    x.append(xy_prime[0])\n",
    "    y.append(xy_prime[1])\n",
    "    \n",
    "plt.plot(x,y)"
   ]
  }
 ],
 "metadata": {
  "kernelspec": {
   "display_name": "SEM",
   "language": "python",
   "name": "sem"
  },
  "language_info": {
   "codemirror_mode": {
    "name": "ipython",
    "version": 3
   },
   "file_extension": ".py",
   "mimetype": "text/x-python",
   "name": "python",
   "nbconvert_exporter": "python",
   "pygments_lexer": "ipython3",
   "version": "3.5.2"
  },
  "toc": {
   "nav_menu": {},
   "number_sections": true,
   "sideBar": true,
   "skip_h1_title": false,
   "title_cell": "Table of Contents",
   "title_sidebar": "Contents",
   "toc_cell": false,
   "toc_position": {},
   "toc_section_display": true,
   "toc_window_display": false
  }
 },
 "nbformat": 4,
 "nbformat_minor": 2
}
